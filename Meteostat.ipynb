{
 "cells": [
  {
   "cell_type": "code",
   "execution_count": 1,
   "id": "f0313557",
   "metadata": {},
   "outputs": [],
   "source": [
    "from datetime import datetime\n",
    "from meteostat import Point, Daily"
   ]
  },
  {
   "cell_type": "code",
   "execution_count": 2,
   "id": "54e4bc1d",
   "metadata": {},
   "outputs": [],
   "source": [
    "# Set time period\n",
    "start = datetime(2015, 1, 1)\n",
    "end = datetime(2022, 12, 31)"
   ]
  },
  {
   "cell_type": "code",
   "execution_count": 3,
   "id": "a64d9368",
   "metadata": {},
   "outputs": [],
   "source": [
    "# Create Point for Cidade de Deus, RJ - BR\n",
    "dados = Point(-22.864485, -43.405446)"
   ]
  },
  {
   "cell_type": "code",
   "execution_count": 4,
   "id": "cf8c7f91",
   "metadata": {},
   "outputs": [],
   "source": [
    "# Get daily data for 2015\n",
    "data = Daily(dados, start, end)\n",
    "data = data.fetch()"
   ]
  },
  {
   "cell_type": "code",
   "execution_count": 5,
   "id": "bdc2c742",
   "metadata": {},
   "outputs": [],
   "source": [
    "data.to_excel('colect_data_meteosat.xlsx')"
   ]
  }
 ],
 "metadata": {
  "kernelspec": {
   "display_name": "Python 3 (ipykernel)",
   "language": "python",
   "name": "python3"
  },
  "language_info": {
   "codemirror_mode": {
    "name": "ipython",
    "version": 3
   },
   "file_extension": ".py",
   "mimetype": "text/x-python",
   "name": "python",
   "nbconvert_exporter": "python",
   "pygments_lexer": "ipython3",
   "version": "3.9.13"
  }
 },
 "nbformat": 4,
 "nbformat_minor": 5
}
